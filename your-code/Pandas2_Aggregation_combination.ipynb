{
 "cells": [
  {
   "cell_type": "markdown",
   "id": "93db949e",
   "metadata": {},
   "source": [
    "# Pandas II: Aggregations"
   ]
  },
  {
   "cell_type": "markdown",
   "id": "b823de73",
   "metadata": {
    "toc": true
   },
   "source": [
    "<h3>Table of Contents<span class=\"tocSkip\"></span></h3>\n",
    "<div class=\"toc\"><ul class=\"toc-item\"><li><span><a href=\"#Data-aggregation\" data-toc-modified-id=\"Data-aggregation-1\"><span class=\"toc-item-num\">1&nbsp;&nbsp;</span>Data aggregation</a></span><ul class=\"toc-item\"><li><span><a href=\"#groupby\" data-toc-modified-id=\"groupby-1.1\"><span class=\"toc-item-num\">1.1&nbsp;&nbsp;</span>groupby</a></span><ul class=\"toc-item\"><li><span><a href=\"#groupby-&amp;-aggregate\" data-toc-modified-id=\"groupby-&amp;-aggregate-1.1.1\"><span class=\"toc-item-num\">1.1.1&nbsp;&nbsp;</span>groupby &amp; aggregate</a></span></li></ul></li><li><span><a href=\"#Pivot-Tables\" data-toc-modified-id=\"Pivot-Tables-1.2\"><span class=\"toc-item-num\">1.2&nbsp;&nbsp;</span>Pivot Tables</a></span></li><li><span><a href=\"#Differences-between-pivot-table-and-groupby-function\" data-toc-modified-id=\"Differences-between-pivot-table-and-groupby-function-1.3\"><span class=\"toc-item-num\">1.3&nbsp;&nbsp;</span>Differences between pivot table and groupby function</a></span></li><li><span><a href=\"#crosstab\" data-toc-modified-id=\"crosstab-1.4\"><span class=\"toc-item-num\">1.4&nbsp;&nbsp;</span>crosstab</a></span></li></ul></li><li><span><a href=\"#Data-combination:-mixing-dataframes\" data-toc-modified-id=\"Data-combination:-mixing-dataframes-2\"><span class=\"toc-item-num\">2&nbsp;&nbsp;</span>Data combination: mixing dataframes</a></span><ul class=\"toc-item\"><li><span><a href=\"#Concat:-two-things-together\" data-toc-modified-id=\"Concat:-two-things-together-2.1\"><span class=\"toc-item-num\">2.1&nbsp;&nbsp;</span>Concat: two things together</a></span><ul class=\"toc-item\"><li><span><a href=\"#Concatenating-on-axis-0-(rows)\" data-toc-modified-id=\"Concatenating-on-axis-0-(rows)-2.1.1\"><span class=\"toc-item-num\">2.1.1&nbsp;&nbsp;</span>Concatenating on axis 0 (rows)</a></span></li><li><span><a href=\"#Concatenating-on-axis-1-(columns)\" data-toc-modified-id=\"Concatenating-on-axis-1-(columns)-2.1.2\"><span class=\"toc-item-num\">2.1.2&nbsp;&nbsp;</span>Concatenating on axis 1 (columns)</a></span></li></ul></li><li><span><a href=\"#Merge:-related-columns\" data-toc-modified-id=\"Merge:-related-columns-2.2\"><span class=\"toc-item-num\">2.2&nbsp;&nbsp;</span>Merge: related columns</a></span><ul class=\"toc-item\"><li><span><a href=\"#LEFT-Merge\" data-toc-modified-id=\"LEFT-Merge-2.2.1\"><span class=\"toc-item-num\">2.2.1&nbsp;&nbsp;</span>LEFT Merge</a></span></li><li><span><a href=\"#RIGHT-Merge\" data-toc-modified-id=\"RIGHT-Merge-2.2.2\"><span class=\"toc-item-num\">2.2.2&nbsp;&nbsp;</span>RIGHT Merge</a></span></li><li><span><a href=\"#INNER-Merge\" data-toc-modified-id=\"INNER-Merge-2.2.3\"><span class=\"toc-item-num\">2.2.3&nbsp;&nbsp;</span>INNER Merge</a></span></li><li><span><a href=\"#OUTER-Merge\" data-toc-modified-id=\"OUTER-Merge-2.2.4\"><span class=\"toc-item-num\">2.2.4&nbsp;&nbsp;</span>OUTER Merge</a></span></li></ul></li><li><span><a href=\"#Merging-&amp;-Concatenating-in-two-different-columns\" data-toc-modified-id=\"Merging-&amp;-Concatenating-in-two-different-columns-2.3\"><span class=\"toc-item-num\">2.3&nbsp;&nbsp;</span>Merging &amp; Concatenating in two different columns</a></span><ul class=\"toc-item\"><li><span><a href=\"#Concatenating-in-two-different-columns\" data-toc-modified-id=\"Concatenating-in-two-different-columns-2.3.1\"><span class=\"toc-item-num\">2.3.1&nbsp;&nbsp;</span>Concatenating in two different columns</a></span></li><li><span><a href=\"#Merging-in-two-different-columns\" data-toc-modified-id=\"Merging-in-two-different-columns-2.3.2\"><span class=\"toc-item-num\">2.3.2&nbsp;&nbsp;</span>Merging in two different columns</a></span></li></ul></li><li><span><a href=\"#Join:-relating-index\" data-toc-modified-id=\"Join:-relating-index-2.4\"><span class=\"toc-item-num\">2.4&nbsp;&nbsp;</span>Join: relating index</a></span></li><li><span><a href=\"#Differences-between-join-&amp;-merge\" data-toc-modified-id=\"Differences-between-join-&amp;-merge-2.5\"><span class=\"toc-item-num\">2.5&nbsp;&nbsp;</span>Differences between join &amp; merge</a></span></li></ul></li><li><span><a href=\"#Pandas-usual-methods\" data-toc-modified-id=\"Pandas-usual-methods-3\"><span class=\"toc-item-num\">3&nbsp;&nbsp;</span>Pandas usual methods</a></span></li><li><span><a href=\"#Further-materials\" data-toc-modified-id=\"Further-materials-4\"><span class=\"toc-item-num\">4&nbsp;&nbsp;</span>Further materials</a></span></li></ul></div>"
   ]
  },
  {
   "cell_type": "markdown",
   "id": "ad2d0378",
   "metadata": {},
   "source": [
    "![](https://miro.medium.com/max/1400/1*6d5dw6dPhy4vBp2vRW6uzw.webp)"
   ]
  },
  {
   "cell_type": "markdown",
   "id": "5b4670f9",
   "metadata": {},
   "source": [
    "## Import Pandas and Data\n",
    "First, we import the main libraries:"
   ]
  },
  {
   "cell_type": "code",
   "execution_count": 5,
   "id": "cbfec44d",
   "metadata": {},
   "outputs": [
    {
     "ename": "FileNotFoundError",
     "evalue": "[Errno 2] No such file or directory: 'datasets/employees.csv'",
     "output_type": "error",
     "traceback": [
      "\u001b[1;31m---------------------------------------------------------------------------\u001b[0m",
      "\u001b[1;31mFileNotFoundError\u001b[0m                         Traceback (most recent call last)",
      "Cell \u001b[1;32mIn[5], line 4\u001b[0m\n\u001b[0;32m      1\u001b[0m \u001b[38;5;28;01mimport\u001b[39;00m \u001b[38;5;21;01mpandas\u001b[39;00m \u001b[38;5;28;01mas\u001b[39;00m \u001b[38;5;21;01mpd\u001b[39;00m\n\u001b[0;32m      2\u001b[0m \u001b[38;5;28;01mimport\u001b[39;00m \u001b[38;5;21;01mnumpy\u001b[39;00m \u001b[38;5;28;01mas\u001b[39;00m \u001b[38;5;21;01mnp\u001b[39;00m\n\u001b[1;32m----> 4\u001b[0m df \u001b[38;5;241m=\u001b[39m pd\u001b[38;5;241m.\u001b[39mread_csv(\u001b[38;5;124m\"\u001b[39m\u001b[38;5;124mdatasets/employees.csv\u001b[39m\u001b[38;5;124m\"\u001b[39m)\n",
      "File \u001b[1;32m~\\anaconda3\\Lib\\site-packages\\pandas\\io\\parsers\\readers.py:1026\u001b[0m, in \u001b[0;36mread_csv\u001b[1;34m(filepath_or_buffer, sep, delimiter, header, names, index_col, usecols, dtype, engine, converters, true_values, false_values, skipinitialspace, skiprows, skipfooter, nrows, na_values, keep_default_na, na_filter, verbose, skip_blank_lines, parse_dates, infer_datetime_format, keep_date_col, date_parser, date_format, dayfirst, cache_dates, iterator, chunksize, compression, thousands, decimal, lineterminator, quotechar, quoting, doublequote, escapechar, comment, encoding, encoding_errors, dialect, on_bad_lines, delim_whitespace, low_memory, memory_map, float_precision, storage_options, dtype_backend)\u001b[0m\n\u001b[0;32m   1013\u001b[0m kwds_defaults \u001b[38;5;241m=\u001b[39m _refine_defaults_read(\n\u001b[0;32m   1014\u001b[0m     dialect,\n\u001b[0;32m   1015\u001b[0m     delimiter,\n\u001b[1;32m   (...)\u001b[0m\n\u001b[0;32m   1022\u001b[0m     dtype_backend\u001b[38;5;241m=\u001b[39mdtype_backend,\n\u001b[0;32m   1023\u001b[0m )\n\u001b[0;32m   1024\u001b[0m kwds\u001b[38;5;241m.\u001b[39mupdate(kwds_defaults)\n\u001b[1;32m-> 1026\u001b[0m \u001b[38;5;28;01mreturn\u001b[39;00m _read(filepath_or_buffer, kwds)\n",
      "File \u001b[1;32m~\\anaconda3\\Lib\\site-packages\\pandas\\io\\parsers\\readers.py:620\u001b[0m, in \u001b[0;36m_read\u001b[1;34m(filepath_or_buffer, kwds)\u001b[0m\n\u001b[0;32m    617\u001b[0m _validate_names(kwds\u001b[38;5;241m.\u001b[39mget(\u001b[38;5;124m\"\u001b[39m\u001b[38;5;124mnames\u001b[39m\u001b[38;5;124m\"\u001b[39m, \u001b[38;5;28;01mNone\u001b[39;00m))\n\u001b[0;32m    619\u001b[0m \u001b[38;5;66;03m# Create the parser.\u001b[39;00m\n\u001b[1;32m--> 620\u001b[0m parser \u001b[38;5;241m=\u001b[39m TextFileReader(filepath_or_buffer, \u001b[38;5;241m*\u001b[39m\u001b[38;5;241m*\u001b[39mkwds)\n\u001b[0;32m    622\u001b[0m \u001b[38;5;28;01mif\u001b[39;00m chunksize \u001b[38;5;129;01mor\u001b[39;00m iterator:\n\u001b[0;32m    623\u001b[0m     \u001b[38;5;28;01mreturn\u001b[39;00m parser\n",
      "File \u001b[1;32m~\\anaconda3\\Lib\\site-packages\\pandas\\io\\parsers\\readers.py:1620\u001b[0m, in \u001b[0;36mTextFileReader.__init__\u001b[1;34m(self, f, engine, **kwds)\u001b[0m\n\u001b[0;32m   1617\u001b[0m     \u001b[38;5;28mself\u001b[39m\u001b[38;5;241m.\u001b[39moptions[\u001b[38;5;124m\"\u001b[39m\u001b[38;5;124mhas_index_names\u001b[39m\u001b[38;5;124m\"\u001b[39m] \u001b[38;5;241m=\u001b[39m kwds[\u001b[38;5;124m\"\u001b[39m\u001b[38;5;124mhas_index_names\u001b[39m\u001b[38;5;124m\"\u001b[39m]\n\u001b[0;32m   1619\u001b[0m \u001b[38;5;28mself\u001b[39m\u001b[38;5;241m.\u001b[39mhandles: IOHandles \u001b[38;5;241m|\u001b[39m \u001b[38;5;28;01mNone\u001b[39;00m \u001b[38;5;241m=\u001b[39m \u001b[38;5;28;01mNone\u001b[39;00m\n\u001b[1;32m-> 1620\u001b[0m \u001b[38;5;28mself\u001b[39m\u001b[38;5;241m.\u001b[39m_engine \u001b[38;5;241m=\u001b[39m \u001b[38;5;28mself\u001b[39m\u001b[38;5;241m.\u001b[39m_make_engine(f, \u001b[38;5;28mself\u001b[39m\u001b[38;5;241m.\u001b[39mengine)\n",
      "File \u001b[1;32m~\\anaconda3\\Lib\\site-packages\\pandas\\io\\parsers\\readers.py:1880\u001b[0m, in \u001b[0;36mTextFileReader._make_engine\u001b[1;34m(self, f, engine)\u001b[0m\n\u001b[0;32m   1878\u001b[0m     \u001b[38;5;28;01mif\u001b[39;00m \u001b[38;5;124m\"\u001b[39m\u001b[38;5;124mb\u001b[39m\u001b[38;5;124m\"\u001b[39m \u001b[38;5;129;01mnot\u001b[39;00m \u001b[38;5;129;01min\u001b[39;00m mode:\n\u001b[0;32m   1879\u001b[0m         mode \u001b[38;5;241m+\u001b[39m\u001b[38;5;241m=\u001b[39m \u001b[38;5;124m\"\u001b[39m\u001b[38;5;124mb\u001b[39m\u001b[38;5;124m\"\u001b[39m\n\u001b[1;32m-> 1880\u001b[0m \u001b[38;5;28mself\u001b[39m\u001b[38;5;241m.\u001b[39mhandles \u001b[38;5;241m=\u001b[39m get_handle(\n\u001b[0;32m   1881\u001b[0m     f,\n\u001b[0;32m   1882\u001b[0m     mode,\n\u001b[0;32m   1883\u001b[0m     encoding\u001b[38;5;241m=\u001b[39m\u001b[38;5;28mself\u001b[39m\u001b[38;5;241m.\u001b[39moptions\u001b[38;5;241m.\u001b[39mget(\u001b[38;5;124m\"\u001b[39m\u001b[38;5;124mencoding\u001b[39m\u001b[38;5;124m\"\u001b[39m, \u001b[38;5;28;01mNone\u001b[39;00m),\n\u001b[0;32m   1884\u001b[0m     compression\u001b[38;5;241m=\u001b[39m\u001b[38;5;28mself\u001b[39m\u001b[38;5;241m.\u001b[39moptions\u001b[38;5;241m.\u001b[39mget(\u001b[38;5;124m\"\u001b[39m\u001b[38;5;124mcompression\u001b[39m\u001b[38;5;124m\"\u001b[39m, \u001b[38;5;28;01mNone\u001b[39;00m),\n\u001b[0;32m   1885\u001b[0m     memory_map\u001b[38;5;241m=\u001b[39m\u001b[38;5;28mself\u001b[39m\u001b[38;5;241m.\u001b[39moptions\u001b[38;5;241m.\u001b[39mget(\u001b[38;5;124m\"\u001b[39m\u001b[38;5;124mmemory_map\u001b[39m\u001b[38;5;124m\"\u001b[39m, \u001b[38;5;28;01mFalse\u001b[39;00m),\n\u001b[0;32m   1886\u001b[0m     is_text\u001b[38;5;241m=\u001b[39mis_text,\n\u001b[0;32m   1887\u001b[0m     errors\u001b[38;5;241m=\u001b[39m\u001b[38;5;28mself\u001b[39m\u001b[38;5;241m.\u001b[39moptions\u001b[38;5;241m.\u001b[39mget(\u001b[38;5;124m\"\u001b[39m\u001b[38;5;124mencoding_errors\u001b[39m\u001b[38;5;124m\"\u001b[39m, \u001b[38;5;124m\"\u001b[39m\u001b[38;5;124mstrict\u001b[39m\u001b[38;5;124m\"\u001b[39m),\n\u001b[0;32m   1888\u001b[0m     storage_options\u001b[38;5;241m=\u001b[39m\u001b[38;5;28mself\u001b[39m\u001b[38;5;241m.\u001b[39moptions\u001b[38;5;241m.\u001b[39mget(\u001b[38;5;124m\"\u001b[39m\u001b[38;5;124mstorage_options\u001b[39m\u001b[38;5;124m\"\u001b[39m, \u001b[38;5;28;01mNone\u001b[39;00m),\n\u001b[0;32m   1889\u001b[0m )\n\u001b[0;32m   1890\u001b[0m \u001b[38;5;28;01massert\u001b[39;00m \u001b[38;5;28mself\u001b[39m\u001b[38;5;241m.\u001b[39mhandles \u001b[38;5;129;01mis\u001b[39;00m \u001b[38;5;129;01mnot\u001b[39;00m \u001b[38;5;28;01mNone\u001b[39;00m\n\u001b[0;32m   1891\u001b[0m f \u001b[38;5;241m=\u001b[39m \u001b[38;5;28mself\u001b[39m\u001b[38;5;241m.\u001b[39mhandles\u001b[38;5;241m.\u001b[39mhandle\n",
      "File \u001b[1;32m~\\anaconda3\\Lib\\site-packages\\pandas\\io\\common.py:873\u001b[0m, in \u001b[0;36mget_handle\u001b[1;34m(path_or_buf, mode, encoding, compression, memory_map, is_text, errors, storage_options)\u001b[0m\n\u001b[0;32m    868\u001b[0m \u001b[38;5;28;01melif\u001b[39;00m \u001b[38;5;28misinstance\u001b[39m(handle, \u001b[38;5;28mstr\u001b[39m):\n\u001b[0;32m    869\u001b[0m     \u001b[38;5;66;03m# Check whether the filename is to be opened in binary mode.\u001b[39;00m\n\u001b[0;32m    870\u001b[0m     \u001b[38;5;66;03m# Binary mode does not support 'encoding' and 'newline'.\u001b[39;00m\n\u001b[0;32m    871\u001b[0m     \u001b[38;5;28;01mif\u001b[39;00m ioargs\u001b[38;5;241m.\u001b[39mencoding \u001b[38;5;129;01mand\u001b[39;00m \u001b[38;5;124m\"\u001b[39m\u001b[38;5;124mb\u001b[39m\u001b[38;5;124m\"\u001b[39m \u001b[38;5;129;01mnot\u001b[39;00m \u001b[38;5;129;01min\u001b[39;00m ioargs\u001b[38;5;241m.\u001b[39mmode:\n\u001b[0;32m    872\u001b[0m         \u001b[38;5;66;03m# Encoding\u001b[39;00m\n\u001b[1;32m--> 873\u001b[0m         handle \u001b[38;5;241m=\u001b[39m \u001b[38;5;28mopen\u001b[39m(\n\u001b[0;32m    874\u001b[0m             handle,\n\u001b[0;32m    875\u001b[0m             ioargs\u001b[38;5;241m.\u001b[39mmode,\n\u001b[0;32m    876\u001b[0m             encoding\u001b[38;5;241m=\u001b[39mioargs\u001b[38;5;241m.\u001b[39mencoding,\n\u001b[0;32m    877\u001b[0m             errors\u001b[38;5;241m=\u001b[39merrors,\n\u001b[0;32m    878\u001b[0m             newline\u001b[38;5;241m=\u001b[39m\u001b[38;5;124m\"\u001b[39m\u001b[38;5;124m\"\u001b[39m,\n\u001b[0;32m    879\u001b[0m         )\n\u001b[0;32m    880\u001b[0m     \u001b[38;5;28;01melse\u001b[39;00m:\n\u001b[0;32m    881\u001b[0m         \u001b[38;5;66;03m# Binary mode\u001b[39;00m\n\u001b[0;32m    882\u001b[0m         handle \u001b[38;5;241m=\u001b[39m \u001b[38;5;28mopen\u001b[39m(handle, ioargs\u001b[38;5;241m.\u001b[39mmode)\n",
      "\u001b[1;31mFileNotFoundError\u001b[0m: [Errno 2] No such file or directory: 'datasets/employees.csv'"
     ]
    }
   ],
   "source": [
    "import pandas as pd\n",
    "import numpy as np\n",
    "\n",
    "df = pd.read_csv(\"datasets/employees.csv\")"
   ]
  },
  {
   "cell_type": "markdown",
   "id": "619f4e92",
   "metadata": {},
   "source": [
    "## Data aggregation"
   ]
  },
  {
   "cell_type": "markdown",
   "id": "6cc1f24d",
   "metadata": {},
   "source": [
    "Data aggregation is a fundamental technique in data analysis that involves grouping and summarizing data to gain insights and make informed decisions. In this section, we will explore essential Pandas methods for data aggregation, including `groupby`, `pivot_table`, and `crosstab`.\n",
    "\n",
    "These techniques are particularly useful when dealing with large datasets or when you need to summarize data across different categories or dimensions. Whether you want to calculate statistics for specific groups, create summary tables, or analyze relationships between variables, data aggregation methods in Pandas provide the tools to streamline your analysis.\n",
    "\n",
    "Let's dive into each of these methods and discover how they can help you uncover meaningful patterns and trends within your data.\n"
   ]
  },
  {
   "cell_type": "markdown",
   "id": "1e81e0e2",
   "metadata": {},
   "source": [
    "### groupby\n",
    "(This is one of the most important things you will learn)"
   ]
  },
  {
   "cell_type": "markdown",
   "id": "c51e74f4",
   "metadata": {
    "lang": "en"
   },
   "source": [
    "![groupby](https://miro.medium.com/v2/resize:fit:720/format:webp/0*m-puRNwcnUl5zZ4O)\n",
    "\n",
    "Pandas GroupBy is a powerful and versatile function in Python that is indispensable for data manipulation and analysis. It enables us to split a DataFrame into separate groups based on one or more criteria and perform various calculations on these groups for in-depth analysis.\n",
    "\n",
    "The concept is straightforward: you select a DataFrame, specify the categories or criteria by which you want to group your data, and then apply aggregation functions to each group. These aggregation functions can include calculations like sum, mean, count, or even custom-defined functions, depending on your analysis goals.\n",
    "\n",
    "GroupBy operations are invaluable for tasks such as summarizing data, exploring patterns within specific groups, or comparing different segments of your dataset. Whether you're working with sales data, customer behavior, or any other structured data, Pandas GroupBy is your go-to tool.\n",
    "\n",
    "Here's a basic syntax to use GroupBy:\n",
    "\n",
    "`df[subset].groupby(category).aggregation()`\n",
    "\n",
    "To dive deeper into the capabilities and options of Pandas GroupBy, you can refer to the official documentation [here](https://pandas.pydata.org/docs/reference/api/pandas.DataFrame.groupby.html)."
   ]
  },
  {
   "cell_type": "markdown",
   "id": "e36c6bb3",
   "metadata": {},
   "source": [
    "`groupby the departments and their mean age`"
   ]
  },
  {
   "cell_type": "code",
   "execution_count": null,
   "id": "b49d1b9b",
   "metadata": {},
   "outputs": [],
   "source": [
    "# Let's look at the df\n",
    "#print(df.info())\n",
    "df.head(15)\n",
    "\n",
    "df[[\"Department\", \"Age\"]]#.groupby(\"Department\").mean()\n",
    "df[[\"Department\", \"Age\"]].groupby(\"Department\").count()\n",
    "df[[\"Department\", \"Age\"]].groupby(\"Department\").mean()"
   ]
  },
  {
   "cell_type": "code",
   "execution_count": null,
   "id": "5c3877a0",
   "metadata": {},
   "outputs": [],
   "source": [
    "#BUILT IN AGGREGATIONS\n",
    "# There are two ways of doing it (1st)\n",
    "df[[\"Age\", \"Department\"]].groupby(\"Department\").mean()\n",
    "df[[\"Age\", \"Department\"]].groupby(\"Department\").max()\n",
    "df[[\"Age\", \"Department\"]].groupby(\"Department\").min()"
   ]
  },
  {
   "cell_type": "code",
   "execution_count": null,
   "id": "7404ca81",
   "metadata": {},
   "outputs": [],
   "source": [
    "# Generalized code\n",
    "# df [ [list of columns] ].groupby(by=[list of dimensions to aggregate by]).agg({list of functions}\n",
    "df[[\"Age\", \"Department\"]].groupby(\"Department\").agg(\"mean\")"
   ]
  },
  {
   "cell_type": "markdown",
   "id": "08947d4b",
   "metadata": {},
   "source": [
    "`groupby: 2+`: Different Education Fields and their Mean Salaries in each of the Department"
   ]
  },
  {
   "cell_type": "code",
   "execution_count": null,
   "id": "c43ddaac",
   "metadata": {},
   "outputs": [],
   "source": [
    "df[[\"EducationField\", \"HourlyRate\", \"Department\", \"Age\"]].groupby(by=[\"Department\", \"EducationField\"]).agg({\"HourlyRate\":\"mean\", \"Age\":\"mean\"})"
   ]
  },
  {
   "cell_type": "markdown",
   "id": "13345cef",
   "metadata": {},
   "source": [
    "`more fields`"
   ]
  },
  {
   "cell_type": "code",
   "execution_count": null,
   "id": "b18336af",
   "metadata": {},
   "outputs": [],
   "source": [
    "df[[\"EducationField\", \"HourlyRate\", \"Department\", \"StandardHours\", \"Age\"]].groupby(by=[\"Department\", \"EducationField\"]).mean()"
   ]
  },
  {
   "cell_type": "code",
   "execution_count": null,
   "id": "1d84c7ba",
   "metadata": {},
   "outputs": [],
   "source": [
    "## Generically, we can/shoud do this:\n",
    "target_columns = [\"EducationField\", \"HourlyRate\", \"Department\", \"StandardHours\", \"Age\"]\n",
    "columns_to_colapse = [\"Department\", \"EducationField\"]\n",
    "aggregations = ['mean', 'max', 'min']\n",
    "df[target_columns].groupby(by=columns_to_colapse).agg(aggregations)"
   ]
  },
  {
   "cell_type": "markdown",
   "id": "7b533d07",
   "metadata": {},
   "source": [
    "#### groupby & aggregate"
   ]
  },
  {
   "cell_type": "markdown",
   "id": "1d23b8f4",
   "metadata": {
    "lang": "en"
   },
   "source": [
    "In Pandas, the \"agg\" function is a powerful tool for aggregating data within groups created using the GroupBy operation. It allows you to apply multiple aggregation functions simultaneously, providing concise and flexible control over your data summarization.\n",
    "\n",
    "Here are some common aggregation functions that can be used with the \"agg\" syntax:\n",
    "- **mean**: Calculates the mean (average) of the values in each group.\n",
    "- **sum**: Adds up all the values in each group.\n",
    "- **count**: Counts the number of rows in each group.\n",
    "\n",
    "Using the \"agg\" function, you can specify these aggregation functions and more, tailoring your data summarization to match your specific analysis requirements. This flexibility is especially useful when you need to obtain various statistics from your grouped data simultaneously.\n",
    "\n",
    "For more details and advanced options regarding the \"agg\" function, you can refer to the official Pandas documentation [here](https://pandas.pydata.org/docs/reference/api/pandas.core.groupby.DataFrameGroupBy.aggregate.html).\n"
   ]
  },
  {
   "cell_type": "markdown",
   "id": "4e51d7d5",
   "metadata": {},
   "source": [
    "### Pivot Tables"
   ]
  },
  {
   "cell_type": "markdown",
   "id": "4930acad",
   "metadata": {},
   "source": [
    "In data analysis, pivot tables are a valuable tool for reshaping and summarizing data, especially when you need to analyze and compare multiple aspects of your dataset simultaneously. Pandas provides a versatile `pivot_table` function that allows you to create spreadsheet-style pivot tables within your DataFrame.\n",
    "\n",
    "The `pivot_table` function takes several key parameters:\n",
    "- `df`: The DataFrame you want to pivot.\n",
    "- `values`: The columns containing the values you want to aggregate.\n",
    "- `index`: The columns that will become the new index of the pivot table.\n",
    "- `columns`: The columns that will become the new columns of the pivot table.\n",
    "- `aggfunc`: The aggregation function to be applied to the values (default is 'mean').\n",
    "\n",
    "When you apply the `pivot_table` function, it organizes your data into a more structured format, with hierarchical indexing on both rows and columns. This structure makes it easy to perform various aggregation operations, such as calculating means, sums, or counts across different groups and dimensions.\n",
    "\n",
    "For a detailed comparison of when to use `groupby` versus `pivot_table`, you can refer to this informative article: [GroupBy vs. Pivot Table](https://towardsdatascience.com/a-comparison-of-groupby-and-pivot-in-pythons-pandas-module-527909e78d6b).\n",
    "\n",
    "Utilizing pivot tables effectively can significantly enhance your data analysis capabilities and help you uncover insights from complex datasets.\n",
    "\n",
    "To learn more about the `pivot_table` function and its advanced options, you can refer to the official Pandas documentation [here](https://pandas.pydata.org/docs/reference/api/pandas.pivot_table.html).\n"
   ]
  },
  {
   "cell_type": "markdown",
   "id": "9f7b8eec",
   "metadata": {},
   "source": [
    "`pivot table`: the department and their mean ages"
   ]
  },
  {
   "cell_type": "code",
   "execution_count": null,
   "id": "8f601835",
   "metadata": {},
   "outputs": [],
   "source": [
    "df.head()"
   ]
  },
  {
   "cell_type": "code",
   "execution_count": null,
   "id": "a10c5545",
   "metadata": {},
   "outputs": [],
   "source": [
    "# Example, calculating mean age by department\n",
    "df.pivot_table(\n",
    "    values = \"Age\",\n",
    "    index = \"Department\",\n",
    "    aggfunc = \"mean\"\n",
    ")"
   ]
  },
  {
   "cell_type": "markdown",
   "id": "1f17fa4b",
   "metadata": {},
   "source": [
    "Now, is your **turn**:"
   ]
  },
  {
   "cell_type": "markdown",
   "id": "2f4e6d7f",
   "metadata": {},
   "source": [
    "`pivot table`: the department and their max ages"
   ]
  },
  {
   "cell_type": "code",
   "execution_count": null,
   "id": "08b920ab",
   "metadata": {},
   "outputs": [],
   "source": [
    "df.pivot_table(\n",
    "    values='Age',\n",
    "    index='Department',\n",
    "    aggfunc='max'\n",
    ")"
   ]
  },
  {
   "cell_type": "markdown",
   "id": "23fdbbe2",
   "metadata": {},
   "source": [
    "`pivot table`: the department and their min ages"
   ]
  },
  {
   "cell_type": "code",
   "execution_count": null,
   "id": "2c804160",
   "metadata": {},
   "outputs": [],
   "source": []
  },
  {
   "cell_type": "markdown",
   "id": "4b08ccf2",
   "metadata": {},
   "source": [
    "`pivot table`: the department and their median age"
   ]
  },
  {
   "cell_type": "code",
   "execution_count": null,
   "id": "6fc473f5",
   "metadata": {},
   "outputs": [],
   "source": []
  },
  {
   "cell_type": "markdown",
   "id": "d6e9e0c6",
   "metadata": {},
   "source": [
    "`multi-index pivot table`: Department and Education Field and check the maximum salary values of employees\n"
   ]
  },
  {
   "cell_type": "code",
   "execution_count": null,
   "id": "ac9e009a",
   "metadata": {},
   "outputs": [],
   "source": [
    "# Example, calculating mean age by department and EducationField\n",
    "df.pivot_table (\n",
    "    values = \"MonthlyIncome\",\n",
    "    index = [\"Department\", \"EducationField\"],\n",
    "    aggfunc = \"max\"\n",
    ")"
   ]
  },
  {
   "cell_type": "markdown",
   "id": "2d7a311e",
   "metadata": {},
   "source": [
    "### crosstab\n"
   ]
  },
  {
   "cell_type": "markdown",
   "id": "9b715869",
   "metadata": {},
   "source": [
    "In data analysis, understanding the relationships between categorical variables is often crucial for gaining insights into your dataset. Pandas offers a powerful tool called `crosstab` that helps you compute a simple cross-tabulation of two or more factors within your DataFrame.\n",
    "\n",
    "The `pd.crosstab()` function is designed for this purpose and is particularly useful when you want to examine the frequency or distribution of one categorical variable relative to another. By default, it computes a frequency table, but you can also pass an array of values and an aggregation function for more advanced analysis.\n",
    "\n",
    "Here's the basic syntax:\n",
    "```python\n",
    "pd.crosstab(df[column1], df[column2])\n",
    "```"
   ]
  },
  {
   "cell_type": "code",
   "execution_count": null,
   "id": "46987cae",
   "metadata": {},
   "outputs": [],
   "source": [
    "# Example I\n",
    "pd.crosstab(df[\"Department\"], df[\"EducationField\"])"
   ]
  },
  {
   "cell_type": "code",
   "execution_count": null,
   "id": "042fbd16",
   "metadata": {},
   "outputs": [],
   "source": [
    "# Example II\n",
    "pd.crosstab(df[\"Department\"], df[\"EducationField\"], df[\"MonthlyIncome\"], aggfunc=\"mean\")"
   ]
  },
  {
   "cell_type": "markdown",
   "id": "f465cda9",
   "metadata": {},
   "source": [
    "------------------------------------------------------------------------------------------------------------------------------------------------------------------------------------------------------------"
   ]
  },
  {
   "cell_type": "markdown",
   "id": "e4821af6",
   "metadata": {},
   "source": [
    "## Data combination: mixing dataframes"
   ]
  },
  {
   "cell_type": "markdown",
   "id": "978c1560",
   "metadata": {},
   "source": [
    "In real-world data analysis, you often encounter scenarios where you need to combine data from different sources or organize it differently to perform meaningful analysis. Pandas provides several powerful methods for merging, joining, and concatenating DataFrames to help you manage this process efficiently.\n",
    "\n",
    "For a comprehensive understanding of these techniques, consider exploring the following resources:\n",
    "- [Real Python: Pandas Merge, Join, and Concat](https://realpython.com/pandas-merge-join-and-concat/)\n",
    "- [Pandas Documentation: Merging and Joining](https://pandas.pydata.org/pandas-docs/stable/user_guide/merging.html)"
   ]
  },
  {
   "cell_type": "markdown",
   "id": "f66d41f9",
   "metadata": {},
   "source": [
    "### Concat: two things together"
   ]
  },
  {
   "cell_type": "markdown",
   "id": "dcd2793b",
   "metadata": {},
   "source": [
    "![Union operation.png](data:image/png;base64,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)"
   ]
  },
  {
   "cell_type": "markdown",
   "id": "82c60a7d",
   "metadata": {},
   "source": [
    "Concatenation is one of the fundamental operations for combining DataFrames. With `pd.concat()`, you can effortlessly join DataFrames along a specified axis, usually along axis 0 (vertically), to stack them one below the other. This aligns columns based on their labels, making it a valuable tool for extending or appending data vertically.\n",
    "\n",
    "The basic syntax for concatenation is as follows:\n",
    "```python\n",
    "result = pd.concat([df1, df2, ...], axis=0)\n",
    "```\n",
    "Here, `df1`, `df2`, and so on are the DataFrames you want to concatenate. The `axis=0` argument ensures that the concatenation occurs vertically, aligning rows.\n",
    "\n",
    "By mastering concatenation, you can efficiently manage datasets that grow over time or combine data from various sources into a single cohesive DataFrame. This is particularly useful when dealing with time series data, log files, or other situations where data is collected incrementally.\n",
    "\n",
    "To delve deeper into concatenation and explore more advanced options, you can refer to the provided resources and the official Pandas documentation on [pd.concat()](https://pandas.pydata.org/docs/reference/api/pandas.concat.html)."
   ]
  },
  {
   "cell_type": "markdown",
   "id": "35cd50c4",
   "metadata": {},
   "source": [
    "#### Concat"
   ]
  },
  {
   "cell_type": "code",
   "execution_count": null,
   "id": "ac484cd6",
   "metadata": {},
   "outputs": [],
   "source": [
    "# Load some data\n",
    "df = pd.read_csv('https://raw.githubusercontent.com/justmarkham/DAT8/master/data/u.user',\n",
    "                             sep='|', \n",
    "                             index_col='user_id')"
   ]
  },
  {
   "cell_type": "code",
   "execution_count": null,
   "id": "2d63950f",
   "metadata": {
    "scrolled": true
   },
   "outputs": [],
   "source": [
    "df.head()"
   ]
  },
  {
   "cell_type": "code",
   "execution_count": null,
   "id": "d87b8ec8",
   "metadata": {},
   "outputs": [],
   "source": [
    "# Let's sample it\n",
    "first_df = df.sample(frac=0.1)\n",
    "second_df = df.sample(frac=0.1)\n",
    "\n",
    "display(first_df.head()); display(second_df.head())"
   ]
  },
  {
   "cell_type": "markdown",
   "id": "0ac7695b",
   "metadata": {},
   "source": [
    "#### Concatenating on axis 0 (rows)"
   ]
  },
  {
   "cell_type": "code",
   "execution_count": null,
   "id": "2c6af3c4",
   "metadata": {},
   "outputs": [],
   "source": [
    "pd.concat([first_df, second_df], axis=0, keys=[\"Table 1\", \"Table 2\"])\n",
    "\n",
    "## You dont actually need keys\n",
    "#pd.concat([first_df, second_df], axis=0)"
   ]
  },
  {
   "cell_type": "markdown",
   "id": "80517add",
   "metadata": {},
   "source": [
    "- This operation concatenates the DataFrames `first_df` and `second_df` vertically (along `axis=0`), meaning it stacks them on top of each other.\n",
    "\n",
    "- The `keys` parameter is used to specify a hierarchical index for the resulting DataFrame. In this case, you're giving each original DataFrame a label: \"Table 1\" and \"Table 2.\"\n",
    "\n",
    "- As a result, the output will be a new DataFrame with a hierarchical (MultiIndex) structure. You can think of it as having two sections labeled \"Table 1\" and \"Table 2,\" where each section contains the data from the respective original DataFrame."
   ]
  },
  {
   "cell_type": "markdown",
   "id": "7b5d00f5",
   "metadata": {},
   "source": [
    "#### Concatenating on axis 1 (columns)"
   ]
  },
  {
   "cell_type": "code",
   "execution_count": null,
   "id": "f7118492",
   "metadata": {},
   "outputs": [],
   "source": [
    "pd.concat([first_df, second_df], axis=1, keys=[\"left\", \"right\"])\n",
    "\n",
    "## Why do we get a sparse table?"
   ]
  },
  {
   "cell_type": "markdown",
   "id": "8274d6cf",
   "metadata": {},
   "source": [
    "- This operation concatenates the DataFrames `first_df` and `second_df` horizontally (along `axis=1`), meaning it combines them side by side.\n",
    "\n",
    "- Similar to the first operation, the `keys` parameter is used to label the columns resulting from each original DataFrame. Here, you're labeling them as \"left\" and \" right.\"\n",
    "\n",
    "- The output will be a new DataFrame where the columns are organized into two sections labeled \"left\" and \" right,\" representing the data from the respective original DataFrames."
   ]
  },
  {
   "cell_type": "markdown",
   "id": "f8d3f26f",
   "metadata": {},
   "source": [
    "## Merge - One of the most important things you will learn\n",
    "\n",
    "INDUSTRY NAME: Join\n",
    "\n",
    "Methods in Pandas: .merge() and .join()"
   ]
  },
  {
   "cell_type": "markdown",
   "id": "ccd65ff4",
   "metadata": {},
   "source": [
    "![sql joins](https://upload.wikimedia.org/wikipedia/commons/9/9d/SQL_Joins.svg)"
   ]
  },
  {
   "cell_type": "markdown",
   "id": "54c9a006",
   "metadata": {},
   "source": [
    "![join](https://www.journalofaccountancy.com/content/dam/jofa/archive/issues/2008/09/ex1-jth.gif)"
   ]
  },
  {
   "cell_type": "markdown",
   "id": "b24ffa2d",
   "metadata": {},
   "source": [
    "![image](https://wac-cdn.atlassian.com/dam/jcr:b033c1f2-b354-44ac-982f-6e4db0c97d71/sqlJoins_7.png?cdnVersion=1604)"
   ]
  },
  {
   "cell_type": "markdown",
   "id": "7d93b0b7",
   "metadata": {},
   "source": [
    "### Merge: related columns"
   ]
  },
  {
   "cell_type": "markdown",
   "id": "weekly-klein",
   "metadata": {},
   "source": [
    "The `merge()` function in Pandas is a powerful tool when you need to combine rows from multiple DataFrames based on related columns. It's primarily used for database-style joins where you want to bring together data from different sources that share common key columns.\n",
    "\n",
    "**Understanding the `merge()` Function**:\n",
    "\n",
    "You can think of the `merge()` function as a way to merge rows that share data across specified columns. It allows you to perform various types of joins, such as inner, outer, left, and right joins, which determine how rows from both DataFrames are combined.\n",
    "\n",
    "- **Inner Join**: This type of join returns only the rows where there is a match in both DataFrames based on the specified columns. Rows without a match are excluded.\n",
    "\n",
    "- **Outer Join (Full Outer Join)**: An outer join returns all rows when there is a match in either the left or right DataFrame. Unmatched rows will contain NaN values for the missing data.\n",
    "\n",
    "- **Left Join (Left Outer Join)**: A left join returns all rows from the left DataFrame and the matched rows from the right DataFrame. Unmatched rows from the left DataFrame will still be included.\n",
    "\n",
    "- **Right Join (Right Outer Join)**: Conversely, a right join returns all rows from the right DataFrame and the matched rows from the left DataFrame. Unmatched rows from the right DataFrame will still be included.\n",
    "\n",
    "**Usage and Syntax**:\n",
    "\n",
    "Here's a basic outline of how to use the `merge()` function:\n",
    "\n",
    "```python\n",
    "merged_df = pd.merge(left_df, right_df, on='common_column', how='join_type')\n",
    "```\n",
    "- **Usage and Syntax:**\n",
    "\n",
    "  - `left_df`: The left DataFrame you want to merge.\n",
    "  - `right_df`: The right DataFrame you want to merge.\n",
    "  - `on`: The column(s) on which you want to perform the merge. These columns should exist in both DataFrames and serve as the key(s) for the merge operation.\n",
    "  - `how`: The type of join you want to perform (e.g., 'inner', 'outer', 'left', 'right').\n",
    "\n",
    "- **Benefits of Using `merge()`:**\n",
    "\n",
    "  - **Data Integration:** Merge helps integrate data from multiple sources or tables into a single, comprehensive dataset.\n",
    "\n",
    "  - **Data Analysis:** It simplifies the process of combining related information, making it easier to analyze data and derive insights.\n",
    "\n",
    "  - **Database Operations:** `merge()` aligns with common database operations like SQL joins, allowing data analysts to leverage their SQL knowledge within Pandas.\n",
    "\n",
    "  - **Complex Queries:** You can handle complex data relationships and perform queries that involve multiple tables efficiently.\n",
    "\n",
    "Merging DataFrames using `merge()` is a fundamental operation in data manipulation and analysis, especially when dealing with real-world datasets from various sources. It provides you with the flexibility to control how data is combined and allows you to work with complex data relationships.\n",
    "\n",
    "For more detailed information and options, you can refer to the official Pandas documentation on [`merge()`](https://pandas.pydata.org/docs/reference/api/pandas.DataFrame.merge.html)."
   ]
  },
  {
   "cell_type": "markdown",
   "id": "d71c38f1",
   "metadata": {},
   "source": [
    "#### LEFT Merge"
   ]
  },
  {
   "cell_type": "code",
   "execution_count": null,
   "id": "550d1fa8",
   "metadata": {},
   "outputs": [],
   "source": [
    "from IPython.display import display_html "
   ]
  },
  {
   "cell_type": "code",
   "execution_count": null,
   "id": "453bc5f7",
   "metadata": {},
   "outputs": [],
   "source": [
    "df1 = pd.DataFrame(\n",
    "    {\n",
    "        \"key1\": [\"K0\", \"K0\", \"K1\", \"K2\"],\n",
    "        \"key2\": [\"K0\", \"K1\", \"K0\", \"K1\"],\n",
    "        \"A\": [\"A0\", \"A1\", \"A2\", \"A3\"],\n",
    "        \"B\": [\"B0\", \"B1\", \"B2\", \"B3\"],\n",
    "    }\n",
    ")\n",
    "\n",
    "\n",
    "df2 = pd.DataFrame(\n",
    "    {\n",
    "        \"key1\": [\"K0\", \"K1\", \"K1\", \"K2\"],\n",
    "        \"key2\": [\"K0\", \"K0\", \"K0\", \"K0\"],\n",
    "        \"C\": [\"C0\", \"C1\", \"C2\", \"C3\"],\n",
    "        \"D\": [\"D0\", \"D1\", \"D2\", \"D3\"],\n",
    "    }\n",
    ")\n",
    "\n",
    "df3 = pd.DataFrame(\n",
    "    {\n",
    "        \"key1\": [\"K90\", \"K1\", \"K1\", \"K2\"],\n",
    "        \"key2\": [\"K0\", \"K0\", \"K5\", \"K0\"],\n",
    "        \"C\": [\"C0\", \"C1\", \"C2\", \"C3\"],\n",
    "        \"Y\": [\"D0\", \"D70\", \"D2\", \"D5\"],\n",
    "    }\n",
    ")"
   ]
  },
  {
   "cell_type": "code",
   "execution_count": null,
   "id": "a0378289",
   "metadata": {},
   "outputs": [],
   "source": [
    "# Just showing tables\n",
    "df1_styler = df1.style.set_table_attributes(\"style='display:inline'\").set_caption('Left table')\n",
    "df2_styler = df2.style.set_table_attributes(\"style='display:inline'\").set_caption('Right table')\n",
    "display_html(df1_styler._repr_html_() + \" \" + df2_styler._repr_html_(), raw=True)"
   ]
  },
  {
   "cell_type": "code",
   "execution_count": null,
   "id": "f05fdd85",
   "metadata": {},
   "outputs": [],
   "source": [
    "# merge, default is inner\n",
    "pd.merge(df1, df2)"
   ]
  },
  {
   "cell_type": "code",
   "execution_count": null,
   "id": "793eb3cb",
   "metadata": {},
   "outputs": [],
   "source": [
    "# merges, now is a left\n",
    "pd.merge(df1, df2, how=\"left\")"
   ]
  },
  {
   "cell_type": "code",
   "execution_count": null,
   "id": "d0ed4fb2",
   "metadata": {},
   "outputs": [],
   "source": [
    "# merges, now is a right\n",
    "pd.merge(df1, df2, how=\"right\")"
   ]
  },
  {
   "cell_type": "code",
   "execution_count": null,
   "id": "05a42620",
   "metadata": {},
   "outputs": [],
   "source": [
    "# merge, now is inner\n",
    "pd.merge(df1, df2, how=\"inner\")"
   ]
  },
  {
   "cell_type": "code",
   "execution_count": null,
   "id": "ade57982",
   "metadata": {},
   "outputs": [],
   "source": [
    "# merge, now is outer\n",
    "pd.merge(df1, df2, how=\"outer\")"
   ]
  },
  {
   "cell_type": "markdown",
   "id": "e6ce32d1",
   "metadata": {},
   "source": [
    "### Merging & Concatenating in two different columns"
   ]
  },
  {
   "cell_type": "code",
   "execution_count": null,
   "id": "fc41cccc",
   "metadata": {},
   "outputs": [],
   "source": [
    "df1_docs = pd.DataFrame({'Locations': ['Spain', 'France', 'Portugal', 'Spain'],\n",
    "                    'city': [\"Barcelona\", \"Paris\", \"Lisbon\", \"Madrid\"]})\n",
    "df2_docs = pd.DataFrame({'More locations': ['Spain', 'France', 'Portugal', 'Spain'],\n",
    "                    'city': [\"Madrid\", \"Lyon\", \"Porto\", \"Albacete\"]})"
   ]
  },
  {
   "cell_type": "markdown",
   "id": "0dda9802",
   "metadata": {},
   "source": [
    "#### Concatenating in two different columns"
   ]
  },
  {
   "cell_type": "code",
   "execution_count": null,
   "id": "af74f523",
   "metadata": {},
   "outputs": [],
   "source": [
    "pd.concat([df1_docs, df2_docs], axis=1, keys=[\"1st table\", \"2nd table\"])"
   ]
  },
  {
   "cell_type": "markdown",
   "id": "156a8141",
   "metadata": {},
   "source": [
    "#### Merging in two different columns"
   ]
  },
  {
   "cell_type": "code",
   "execution_count": null,
   "id": "db10f001",
   "metadata": {},
   "outputs": [],
   "source": [
    "df1_docs.merge(df2_docs, how = 'inner', left_on='Locations', right_on='More locations', suffixes = [\"_fromlastyear\", \"_fromthisyear\"])\n",
    "## Are you expecting 2 or 4 lines for spain?"
   ]
  },
  {
   "cell_type": "code",
   "execution_count": null,
   "id": "803d98d0",
   "metadata": {},
   "outputs": [],
   "source": [
    "df1_docs.merge(df2_docs,  left_on='Locations', right_on='More locations', suffixes = [\"_fromleft\", \"_fromright\"])"
   ]
  },
  {
   "cell_type": "markdown",
   "id": "5e952e34",
   "metadata": {
    "lang": "en"
   },
   "source": [
    "### Join: relating index\n",
    "The join, unlike the merge, will join the dataframes and where there are no records in the \"index\" it will put NaN"
   ]
  },
  {
   "cell_type": "code",
   "execution_count": null,
   "id": "7d4660ec",
   "metadata": {},
   "outputs": [],
   "source": [
    "import numpy as np\n",
    "import pandas as pd   \n",
    "from IPython.display import display_html "
   ]
  },
  {
   "cell_type": "code",
   "execution_count": null,
   "id": "e56efa8f",
   "metadata": {},
   "outputs": [],
   "source": [
    "left_df = pd.DataFrame({\"A\": [\"A0\", \"A1\", \"A2\"], \"B\": [\"B0\", \"B1\", \"B2\"]}, index=[\"K0\", \"K1\", \"K2\"])\n",
    "right_df = pd.DataFrame({\"C\": [\"C0\", \"C2\", \"C3\"], \"D\": [\"D0\", \"D2\", \"D3\"]}, index=[\"K0\", \"K2\", \"K3\"])"
   ]
  },
  {
   "cell_type": "code",
   "execution_count": null,
   "id": "ff6c7cae",
   "metadata": {},
   "outputs": [],
   "source": [
    "left_df.join(right_df, how=\"inner\")"
   ]
  },
  {
   "cell_type": "markdown",
   "id": "21b7a431",
   "metadata": {},
   "source": [
    "### Differences between join & merge"
   ]
  },
  {
   "cell_type": "markdown",
   "id": "f3ad1415",
   "metadata": {},
   "source": [
    "**Differences between join & merge**\n",
    "When combining DataFrames in Pandas, you have two primary methods at your disposal: `join()` and `merge()`. Each method has its own set of features and use cases. Below is a comparison of these two methods based on different join features:\n",
    "\n",
    "| Join Feature               | `join()` | `merge()` |\n",
    "|----------------------------|:--------:|:---------:|\n",
    "| Inner Join                 |   Yes    |    Yes    |\n",
    "| Left Join                  |   Yes    |    Yes    |\n",
    "| Right Join                 |   Yes    |    Yes    |\n",
    "| Outer Join                 |   Yes    |    Yes    |\n",
    "| Cross Join                |    X     |    Yes    |\n",
    "| Join on Indices            |   Yes    |    Yes    |\n",
    "| Join on Columns            |    X     |    Yes    |\n",
    "| Left on Column, Right on Index |   Yes    |    Yes    |\n",
    "| Left on Index, Right on Column |    X     |    Yes    |\n",
    "\n",
    "**Explanation:**\n",
    "\n",
    "- **Inner Join:** Both `join()` and `merge()` support inner joins, which return only the rows with matching values in both DataFrames.\n",
    "\n",
    "- **Left Join:** Both methods allow left joins, which include all rows from the left DataFrame and matching rows from the right DataFrame.\n",
    "\n",
    "- **Right Join:** Both methods support right joins, which include all rows from the right DataFrame and matching rows from the left DataFrame.\n",
    "\n",
    "- **Outer Join:** Both methods enable outer joins, which include all rows from both DataFrames, filling in missing values with NaN where necessary.\n",
    "\n",
    "- **Cross Join:** While `merge()` can perform cross joins, `join()` does not support them. Cross joins result in a Cartesian product of rows between two DataFrames.\n",
    "\n",
    "- **Join on Indices:** Both `join()` and `merge()` can perform joins based on the index of DataFrames.\n",
    "\n",
    "- **Join on Columns:** `merge()` allows you to join DataFrames on specific columns, while `join()` does not provide this capability.\n",
    "\n",
    "- **Left on Column, Right on Index:** Both methods support joining on a column from the left DataFrame and the index from the right DataFrame.\n",
    "\n",
    "- **Left on Index, Right on Column:** `merge()` can join on the index from the left DataFrame and a column from the right DataFrame, but `join()` does not offer this option.\n",
    "\n",
    "This comparison should help you choose the appropriate method based on your specific merging requirements."
   ]
  },
  {
   "cell_type": "markdown",
   "id": "ec6e7e2e",
   "metadata": {},
   "source": [
    "## Lets do an exercise together"
   ]
  },
  {
   "cell_type": "code",
   "execution_count": null,
   "id": "1aa3dc39",
   "metadata": {},
   "outputs": [],
   "source": [
    "import pandas as pd\n",
    "data = pd.read_excel('datasets/Sample - Superstore.xls')"
   ]
  },
  {
   "cell_type": "code",
   "execution_count": null,
   "id": "8ca9e653",
   "metadata": {},
   "outputs": [],
   "source": [
    "# Get what are the different values of \"Ship Mode\"\n",
    "\n",
    "list(data['Ship Mode'].unique())\n",
    "set(data['Ship Mode'])\n",
    "\n",
    "data['Ship Mode'].value_counts()\n",
    "\n",
    "# Who were the most/least profitable countries?\n",
    "data[['Profit','State']]\n",
    "\n",
    "sorted_countries = data.groupby('State')['Profit'].sum().sort_values(ascending = False)\n",
    "sorted_countries"
   ]
  },
  {
   "cell_type": "code",
   "execution_count": null,
   "id": "c81e04d3",
   "metadata": {},
   "outputs": [],
   "source": [
    "# What was the most unprofitable product category and sub categotry?\n",
    "\n",
    "profit_analysis = data.groupby(['Category','Sub-Category'])['Profit'].sum().sort_values(ascending = False)\n",
    "\n",
    "# what is the structure of this pandas data series? how can that be if it has 3 columns?\n",
    "profit_analysis = pd.DataFrame(profit_analysis)\n",
    "profit_analysis"
   ]
  },
  {
   "cell_type": "code",
   "execution_count": null,
   "id": "9c5e9d7e",
   "metadata": {},
   "outputs": [],
   "source": [
    "# The most unprofitable subcategory overall is responsible for how much of the losses in the most unprofitable state?\n",
    "# What we need to do:\n",
    "# - Get the most unprofitable state\n",
    "# - Get the most unprofitbale category\n",
    "# - Get data for this state and this subcategory\n",
    "# - Get the data for this state\n",
    "# - Compute the % worth for that subcategory in that state\n",
    "\n",
    "# - Get the most unprofitable State\n",
    "most_unprofitable = data.groupby(['State'])['Profit'].sum().sort_values()\n",
    "most_unprofitable = most_unprofitable.index[0]\n",
    "\n",
    "# - Get the most unprofitbale category\n",
    "most_unprofitable_subcat = data.groupby(['Sub-Category'])['Profit'].sum().sort_values()\n",
    "most_unprofitable_subcat = most_unprofitable_subcat.index[0]\n",
    "most_unprofitable_subcat\n",
    "\n",
    "# - Get data for this State and this subcategory\n",
    "condition = ((data['State'] == most_unprofitable) & (data['Sub-Category'] == most_unprofitable_subcat))\n",
    "numerator = data[condition]['Profit'].sum()\n",
    "\n",
    "# - Get the data for this State\n",
    "condition2 = (data['State'] == most_unprofitable)\n",
    "denominator = data[condition2]['Profit'].sum()\n",
    "\n",
    "# - Compute the % worth for that subcategory in that State\n",
    "print('The most unprofitable subcategory is '+str(most_unprofitable_subcat))\n",
    "print('The most unprofitable State is '+str(most_unprofitable))\n",
    "\n",
    "string_to_print = f\"The profit of {most_unprofitable_subcat} in {most_unprofitable} is {numerator} out of {denominator}, \\\n",
    "which represents {round(100*numerator/denominator, 2)}%\"\n",
    "\n",
    "print(string_to_print)"
   ]
  },
  {
   "cell_type": "markdown",
   "id": "6c8bc617",
   "metadata": {},
   "source": [
    "## Business challenge: Glovo orders analysis (use pycharm)"
   ]
  },
  {
   "cell_type": "markdown",
   "id": "1979ee71",
   "metadata": {},
   "source": [
    "Business challenge: Glovo orders analysis (use pycharm)\n",
    "\n",
    "In this analysis, we will explore a dataset containing information about orders from Fake partners within the app. Fake partners are stores not directly integrated with Glovo, and our content team manages their product catalog and prices. This dataset provides details on orders, payment discrepancies, and other relevant information.\n",
    "\n",
    "1. Dataset Description\n",
    "    - `order_id`: Unique identifier for each order.\n",
    "    - `activation_time_local`: Local time when the order was activated.\n",
    "    - `country_code`: Country code for the order.\n",
    "    - `store_address`: Address of the store.\n",
    "    - `final_status`: The final status of the order.\n",
    "    - `payment_status`: The payment status of the order.\n",
    "    - `products`: Number of products in the order.\n",
    "    - `products_total`: Total amount at checkout in euros (€).\n",
    "    - `purchase_total_price`: Amount the courier paid at the store in euros (€).\n",
    "\n",
    "2. Background\n",
    "Fake partner orders can exhibit discrepancies between the total amount at checkout (`products_total`) and the amount the courier pays at the store (`purchase_total_price`). When `products_total` is lower than `purchase_total_price`, we classify them as \"under-authorized orders.\" Understanding these discrepancies is crucial for transitioning from charge-on-delivery to an authorize-and-capture model.\n",
    "\n",
    "3. Key Questions\n",
    "During this EDA process, we aim to answer the following questions:\n",
    "\n",
    "    1. What percentage of orders are under-authorized?\n",
    "    2. What percentage of orders would be correctly authorized with a 20% incremental authorization on the amount at checkout?\n",
    "    3. Are there differences in the above percentages when split by country?\n",
    "    4. For the remaining orders outside of incremental authorization, what values would be necessary to capture the remaining amount?\n",
    "    5. Which stores are the most problematic in terms of orders and monetary value?\n",
    "    6. For under-authorized orders, is there a correlation between the price difference and order cancellations? In other words, is an order more likely to be canceled as the price difference increases?\n",
    "\n",
    "Through this analysis, we aim to gain insights into the price fluctuations of past orders and assess the risk associated with transitioning to a new authorization model.\n",
    "\n",
    "Let's dive into the dataset and start exploring!"
   ]
  },
  {
   "cell_type": "code",
   "execution_count": 36,
   "id": "cc2e6c37",
   "metadata": {},
   "outputs": [
    {
     "data": {
      "text/html": [
       "<div>\n",
       "<style scoped>\n",
       "    .dataframe tbody tr th:only-of-type {\n",
       "        vertical-align: middle;\n",
       "    }\n",
       "\n",
       "    .dataframe tbody tr th {\n",
       "        vertical-align: top;\n",
       "    }\n",
       "\n",
       "    .dataframe thead th {\n",
       "        text-align: right;\n",
       "    }\n",
       "</style>\n",
       "<table border=\"1\" class=\"dataframe\">\n",
       "  <thead>\n",
       "    <tr style=\"text-align: right;\">\n",
       "      <th></th>\n",
       "      <th>33557880</th>\n",
       "      <th>2019-03-10 23:59:59.000000</th>\n",
       "      <th>AR</th>\n",
       "      <th>14200</th>\n",
       "      <th>DeliveredStatus</th>\n",
       "      <th>PAID</th>\n",
       "      <th>1</th>\n",
       "      <th>4.54</th>\n",
       "      <th>8.64</th>\n",
       "    </tr>\n",
       "  </thead>\n",
       "  <tbody>\n",
       "    <tr>\n",
       "      <th>0</th>\n",
       "      <td>33512615</td>\n",
       "      <td>2019-03-10 23:58:32.000000</td>\n",
       "      <td>TR</td>\n",
       "      <td>28725</td>\n",
       "      <td>DeliveredStatus</td>\n",
       "      <td>PAID</td>\n",
       "      <td>1</td>\n",
       "      <td>3.76</td>\n",
       "      <td>3.76</td>\n",
       "    </tr>\n",
       "    <tr>\n",
       "      <th>1</th>\n",
       "      <td>33512451</td>\n",
       "      <td>2019-03-10 23:57:56.000000</td>\n",
       "      <td>TR</td>\n",
       "      <td>28725</td>\n",
       "      <td>DeliveredStatus</td>\n",
       "      <td>PAID</td>\n",
       "      <td>1</td>\n",
       "      <td>2.86</td>\n",
       "      <td>2.86</td>\n",
       "    </tr>\n",
       "    <tr>\n",
       "      <th>2</th>\n",
       "      <td>33530892</td>\n",
       "      <td>2019-03-10 23:57:33.000000</td>\n",
       "      <td>ES</td>\n",
       "      <td>19777</td>\n",
       "      <td>CanceledStatus</td>\n",
       "      <td>PAID</td>\n",
       "      <td>1</td>\n",
       "      <td>12.95</td>\n",
       "      <td>0.00</td>\n",
       "    </tr>\n",
       "    <tr>\n",
       "      <th>3</th>\n",
       "      <td>33557765</td>\n",
       "      <td>2019-03-10 23:57:21.000000</td>\n",
       "      <td>AR</td>\n",
       "      <td>34565</td>\n",
       "      <td>DeliveredStatus</td>\n",
       "      <td>PAID</td>\n",
       "      <td>2</td>\n",
       "      <td>2.86</td>\n",
       "      <td>6.48</td>\n",
       "    </tr>\n",
       "    <tr>\n",
       "      <th>4</th>\n",
       "      <td>33512273</td>\n",
       "      <td>2019-03-10 23:57:13.000000</td>\n",
       "      <td>TR</td>\n",
       "      <td>63536</td>\n",
       "      <td>DeliveredStatus</td>\n",
       "      <td>PAID</td>\n",
       "      <td>4</td>\n",
       "      <td>1.88</td>\n",
       "      <td>1.96</td>\n",
       "    </tr>\n",
       "  </tbody>\n",
       "</table>\n",
       "</div>"
      ],
      "text/plain": [
       "   33557880  2019-03-10 23:59:59.000000  AR  14200  DeliveredStatus  PAID  1  \\\n",
       "0  33512615  2019-03-10 23:58:32.000000  TR  28725  DeliveredStatus  PAID  1   \n",
       "1  33512451  2019-03-10 23:57:56.000000  TR  28725  DeliveredStatus  PAID  1   \n",
       "2  33530892  2019-03-10 23:57:33.000000  ES  19777   CanceledStatus  PAID  1   \n",
       "3  33557765  2019-03-10 23:57:21.000000  AR  34565  DeliveredStatus  PAID  2   \n",
       "4  33512273  2019-03-10 23:57:13.000000  TR  63536  DeliveredStatus  PAID  4   \n",
       "\n",
       "    4.54  8.64  \n",
       "0   3.76  3.76  \n",
       "1   2.86  2.86  \n",
       "2  12.95  0.00  \n",
       "3   2.86  6.48  \n",
       "4   1.88  1.96  "
      ]
     },
     "execution_count": 36,
     "metadata": {},
     "output_type": "execute_result"
    }
   ],
   "source": [
    "# Load the dataset\n",
    "df = pd.read_csv(\"fake_orders_test.csv\")\n",
    "df.head()\n"
   ]
  },
  {
   "cell_type": "markdown",
   "id": "8aa6e0e7",
   "metadata": {},
   "source": [
    "# RECAP"
   ]
  },
  {
   "cell_type": "markdown",
   "id": "bee1311c",
   "metadata": {},
   "source": [
    "RECAP\n",
    "\n",
    "## Subsets\n",
    "- Select specific columns:\n",
    "  - `df[[col1, col2]]`\n",
    "\n",
    "## Aggregations\n",
    "### Groupby\n",
    "- Perform aggregations based on a categorical column:\n",
    "  - `df[[col1, col2]].groupby(CATEGORICAL).agg({QUANTITATIVE_1: \"mean\", QUANTITATIVE_2: \"max\"})`\n",
    "  - `df[[col1, col2]].groupby(CATEGORICAL).mean()`\n",
    "- Common aggregation functions:\n",
    "  - count, mean, max, min, median, std, and more.\n",
    "\n",
    "### Pivot Table\n",
    "- Create pivot tables to summarize data:\n",
    "  - `df.pivot_table(values=\"MonthlyIncome\", index=\"Department\", aggfunc=\"mean\")`\n",
    "- Pivot tables offer a concise way to aggregate and compare data.\n",
    "\n",
    "### Crosstab\n",
    "- Compute cross-tabulations to analyze the relationship between two categorical variables:\n",
    "  - Default behavior counts occurrences.\n",
    "  - Use `aggfunc=\"mean\"` for aggregating quantitative variables.\n",
    "  - Ensure you select appropriate variables.\n",
    "\n",
    "## JOINS & MERGE & CONCAT\n",
    "\n",
    "### Concatenation\n",
    "- Combining DataFrames physically (not relationally):\n",
    "  - Side by side: `concat` on `axis=1`.\n",
    "    - Use when DataFrames don't share columns or have a common key.\n",
    "  - Top & bottom: `concat` on `axis=0` (appending rows).\n",
    "    - Suitable when DataFrames share columns.\n",
    "\n",
    "### Merge & Join (Pandas)\n",
    "- Merge: Combining DataFrames based on common columns.\n",
    "- Join: Combining DataFrames based on common indices.\n",
    "- In SQL, join operations are performed on columns.\n",
    "\n",
    "These recap points summarize key operations for data manipulation and analysis in Pandas. You can use these techniques to select, aggregate, and combine data efficiently, helping you gain insights from your datasets.\n"
   ]
  },
  {
   "cell_type": "markdown",
   "id": "58b1d006",
   "metadata": {},
   "source": [
    "## Pandas usual methods\n"
   ]
  },
  {
   "cell_type": "markdown",
   "id": "4f340806",
   "metadata": {
    "lang": "en"
   },
   "source": [
    "```python\n",
    "df.head() # prints the head, default 5 rows\n",
    "df.tail() # set the tail, default 5 rows\n",
    "df.describe() # statistical description\n",
    "df.info() # df information\n",
    "df.columns # show column\n",
    "df.index # show index\n",
    "df.dtypes # show column data types\n",
    "df.plot() # make a plot\n",
    "df.hist() # make a histogram\n",
    "df.col.value_counts() # counts the unique values ​​of a column\n",
    "df.col.unique() # returns unique values ​​from a column\n",
    "df.copy() # copies the df\n",
    "df.drop() # remove columns or rows (axis=0,1)\n",
    "df.dropna() # remove nulls\n",
    "df.fillna() # fills nulls\n",
    "df.shape # dimensions of the df\n",
    "df._get_numeric_data() # select numeric columns\n",
    "df.rename() # rename columns\n",
    "df.str.replace() # replace columns of strings\n",
    "df.astype(dtype='float32') # change the data type\n",
    "df.iloc[] # locate by index\n",
    "df.loc[] # locate by element\n",
    "df.transpose() # transposes the df\n",
    "df.T\n",
    "df.sample(n, frac) # sample from df\n",
    "df.col.sum() # sum of a column\n",
    "df.col.max() # maximum of a column\n",
    "df.col.min() # minimum of one column\n",
    "df[col] # select column\n",
    "df.col\n",
    "df.isnull() # null values\n",
    "df.isna()\n",
    "df.notna() # not null values\n",
    "df.drop_duplicates() # remove duplicates\n",
    "df.reset_index(inplace=True) # reset the index and overwrite\n",
    "```"
   ]
  },
  {
   "cell_type": "markdown",
   "id": "stylish-jefferson",
   "metadata": {},
   "source": [
    "## Further materials\n",
    "\n",
    "* [Read the docs!](https://pandas.pydata.org/pandas-docs/stable/index.html)\n",
    "* [Cheatsheet](https://pandas.pydata.org/Pandas_Cheat_Sheet.pdf)\n",
    "* [Exercises to practice](https://github.com/guipsamora/pandas_exercises)\n",
    "* [More on merge, concat, and join](https://realpython.com/pandas-merge-join-and-concat/#pandas-join-combining-data-on-a-column-or-index). And [even more!](https://pandas.pydata.org/pandas-docs/stable/user_guide/merging.html)\n",
    " "
   ]
  }
 ],
 "metadata": {
  "kernelspec": {
   "display_name": "Python 3 (ipykernel)",
   "language": "python",
   "name": "python3"
  },
  "language_info": {
   "codemirror_mode": {
    "name": "ipython",
    "version": 3
   },
   "file_extension": ".py",
   "mimetype": "text/x-python",
   "name": "python",
   "nbconvert_exporter": "python",
   "pygments_lexer": "ipython3",
   "version": "3.12.7"
  },
  "nbTranslate": {
   "displayLangs": [
    "en",
    "es"
   ],
   "hotkey": "alt-a",
   "langInMainMenu": true,
   "sourceLang": "es",
   "targetLang": "en",
   "useGoogleTranslate": true
  },
  "toc": {
   "base_numbering": 1,
   "nav_menu": {},
   "number_sections": true,
   "sideBar": true,
   "skip_h1_title": true,
   "title_cell": "Table of Contents",
   "title_sidebar": "Contents",
   "toc_cell": true,
   "toc_position": {
    "height": "calc(100% - 180px)",
    "left": "10px",
    "top": "150px",
    "width": "269.766px"
   },
   "toc_section_display": true,
   "toc_window_display": false
  },
  "varInspector": {
   "cols": {
    "lenName": 16,
    "lenType": 16,
    "lenVar": 40
   },
   "kernels_config": {
    "python": {
     "delete_cmd_postfix": "",
     "delete_cmd_prefix": "del ",
     "library": "var_list.py",
     "varRefreshCmd": "print(var_dic_list())"
    },
    "r": {
     "delete_cmd_postfix": ") ",
     "delete_cmd_prefix": "rm(",
     "library": "var_list.r",
     "varRefreshCmd": "cat(var_dic_list()) "
    }
   },
   "types_to_exclude": [
    "module",
    "function",
    "builtin_function_or_method",
    "instance",
    "_Feature"
   ],
   "window_display": false
  }
 },
 "nbformat": 4,
 "nbformat_minor": 5
}
